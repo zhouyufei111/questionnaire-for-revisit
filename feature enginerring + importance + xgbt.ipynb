{
 "cells": [
  {
   "cell_type": "code",
   "execution_count": null,
   "id": "eca9cb2f",
   "metadata": {},
   "outputs": [],
   "source": [
    "import pandas as pd\n",
    "import numpy as np\n",
    "import matplotlib.pyplot as plt\n",
    "from datetime import datetime\n",
    "from xgboost import XGBClassifier\n",
    "from lightgbm import LGBMClassifier\n",
    "from sklearn.metrics import roc_auc_score, roc_curve\n",
    "from sklearn.model_selection import KFold, StratifiedKFold"
   ]
  },
  {
   "cell_type": "code",
   "execution_count": null,
   "id": "8756267c",
   "metadata": {},
   "outputs": [],
   "source": [
    "df = pd.read_excel('df_processed.xlsx')"
   ]
  },
  {
   "cell_type": "code",
   "execution_count": null,
   "id": "ed136e59",
   "metadata": {},
   "outputs": [],
   "source": [
    "df.info()"
   ]
  },
  {
   "cell_type": "code",
   "execution_count": null,
   "id": "ef032368",
   "metadata": {},
   "outputs": [],
   "source": [
    "df = df.dropna(axis=1).drop(columns = ['大区','小区','经销商销售代码','经销商服务代码','经销商名称','工单号','服务顾问','问卷回复时间','问卷标题'])"
   ]
  },
  {
   "cell_type": "code",
   "execution_count": null,
   "id": "c9d5cf2b",
   "metadata": {},
   "outputs": [],
   "source": [
    "#空值不多 直接去掉\n",
    "df.dropna(axis=0, inplace=True)"
   ]
  },
  {
   "cell_type": "code",
   "execution_count": null,
   "id": "f90b6053",
   "metadata": {},
   "outputs": [],
   "source": [
    "#定义过再次到店的时间是8个月以内，所以要去掉离现在八个月以内的数据\n",
    "days_today = '10/26/22'\n",
    "days_today = datetime.strptime(days_today,'%m/%d/%y')\n",
    "df['days_today'] = days_today\n",
    "df['days_today'] = pd.to_datetime(df['days_today'])\n",
    "df['sales_time'] = pd.to_datetime(df['问卷回复时间_x'])\n",
    "df['days_to_today'] = df['days_today'] - df['sales_time']\n",
    "df = df.loc[df['days_to_today'] > '240days',:]\n",
    "del df['days_today']\n",
    "del df['days_to_today']"
   ]
  },
  {
   "cell_type": "code",
   "execution_count": null,
   "id": "721e4f04",
   "metadata": {},
   "outputs": [],
   "source": [
    "#问卷数据\n",
    "df_questionnaire = df[['1.1 总体购车体验及感受','1.2 请您评价销售顾问在入店接待环节的表现',\n",
    "    '1.2 店内环境设施','1.4 请您评价销售顾问在介绍产品环节的表现','1.6 请您评价支付/购买环节的体验',\n",
    "    '1.9 请您评价提新车环节的体验','2.11 购车过程便捷，省心的程度如何？',\n",
    "    '2.12 您是否愿意将这家4S店推荐给其他人？','2.13 您是否信任这家4S店？',\n",
    "    '2.14 您是否愿意将福特品牌推荐给其他人？','2.15 您是否信赖福特这个品牌？',\n",
    "    '1.1 请您评价此次4S店总体服务体验','1.2 请您评价服务人员在接待报价环节的表现',\n",
    "    '1.4 请您评价在店等待环节的体验','1.6 请您评价结算交车环节的体验','1.8 请您评价此次维修保养质量',\n",
    "    '1.9 请问：此次进店，您的车是一次维修保养好的吗？',\n",
    "    '2.11 请您评分：此次维修保养过程便捷，省心的程度','2.12 请您评分：这家4S店值得信任',\n",
    "    '2.13 根据您的体验，您将4S店推荐给他人的可能性有多大？','2.14 请您评分：福特品牌值得信任',\n",
    "    '2.15 根据您的体验，您将福特品牌推荐给他人的可能性有多大？''target']]"
   ]
  },
  {
   "cell_type": "code",
   "execution_count": null,
   "id": "cf3940ae",
   "metadata": {},
   "outputs": [],
   "source": [
    "#合并分类和情感标签，构建新特征\n",
    "df['sales'] = df['sales_aspect'] + '_' + df['sales_sentiment']\n",
    "df['service'] = df['service_aspect'] + df['service_sentiment']\n",
    "df_text_cor = pd.get_dummies(df, columns = ['sales','service'])\n",
    "df_text_cor['target'] = df['target']"
   ]
  },
  {
   "cell_type": "code",
   "execution_count": null,
   "id": "2fe27c30",
   "metadata": {},
   "outputs": [],
   "source": [
    "###看每个问题每个分数的再次到店率\n",
    "df_revisit_1 = pd.DataFrame(index = range(1,6))\n",
    "question_list = df_questionnaire.columns[:-1]\n",
    "for q in question_list:\n",
    "    df_revisit_1[q] = df_questionnaire.groupby(q)['target'].sum() / df_questionnaire.groupby(q)['target'].count()\n",
    "\n",
    "df_revisit_1"
   ]
  },
  {
   "cell_type": "code",
   "execution_count": null,
   "id": "9e4235ba",
   "metadata": {},
   "outputs": [],
   "source": [
    "##看每个文本分类+情感的再次到店率\n",
    "df_revisit_2 = pd.DataFrame(index = range(1,3))\n",
    "question_list = df_text_cor.columns\n",
    "for q in question_list:\n",
    "    df_revisit_2[q] = df_text_cor.groupby(q)['label'].sum() / df_text_cor.groupby(q)['label'].count()\n",
    "\n",
    "df_revisit_2"
   ]
  },
  {
   "cell_type": "markdown",
   "id": "e56b74d4",
   "metadata": {},
   "source": [
    "问卷问题和文本分别和再次到店的相关性"
   ]
  },
  {
   "cell_type": "code",
   "execution_count": null,
   "id": "0d2eeaec",
   "metadata": {},
   "outputs": [],
   "source": [
    "corr1 = df_questionnaire.corr()\n",
    "corr1.style.background_gradient(cmap='coolwarm')"
   ]
  },
  {
   "cell_type": "code",
   "execution_count": null,
   "id": "f33ad6cf",
   "metadata": {},
   "outputs": [],
   "source": [
    "corr2 = df_text_cor.corr()\n",
    "corr2.style.background_gradient(cmap='coolwarm')"
   ]
  },
  {
   "cell_type": "code",
   "execution_count": null,
   "id": "b4c13b18",
   "metadata": {},
   "outputs": [],
   "source": [
    "df.drop(['sales_aspect','sales_sentiment','service_aspect','service_sentiment'], axis=1, inplace=True)"
   ]
  },
  {
   "cell_type": "markdown",
   "id": "04a41a83",
   "metadata": {},
   "source": [
    "用几个特征筛选方法看看特征的重要性"
   ]
  },
  {
   "cell_type": "code",
   "execution_count": null,
   "id": "ecdf466e",
   "metadata": {},
   "outputs": [],
   "source": [
    "#问卷选项重要性\n",
    "clf = XGBClassifier()\n",
    "clf.fit(df_questionnaire.drop('target',axis=1), df_questionnaire['target'])\n",
    "plt.figure()\n",
    "plt.bar(range(df_questionnaire.shape[1]-1), clf.feature_importances_)\n",
    "plt.xticks(range(df_questionnaire.shape[1]-1), df_questionnaire.columns[:-1])"
   ]
  },
  {
   "cell_type": "code",
   "execution_count": null,
   "id": "f506421f",
   "metadata": {},
   "outputs": [],
   "source": [
    "#文本重要性\n",
    "clf = XGBClassifier()\n",
    "clf.fit(df_text_cor.drop('target',axis=1), df_text_cor['target'])\n",
    "plt.figure()\n",
    "plt.bar(range(df_text_cor)-1, clf.feature_importances_)\n",
    "plt.xticks(range(df_text_cor)-1, df_text_cor.columns[:-1])"
   ]
  },
  {
   "cell_type": "markdown",
   "id": "e9c60477",
   "metadata": {},
   "source": [
    "用Null Importance检查一下树模型的特征筛选表现"
   ]
  },
  {
   "cell_type": "code",
   "execution_count": null,
   "id": "005c661a",
   "metadata": {},
   "outputs": [],
   "source": [
    "def get_feature_importances(data, label, feature_name, shuffle = True):\n",
    "    y = label.copy()\n",
    "    if shuffle:\n",
    "        np.random.shuffle(y)\n",
    "    \n",
    "    clf = XGBClassifier()\n",
    "    clf.fit(data, y)\n",
    "    imp_df = pd.DataFrame()\n",
    "    imp_df['feature'] = feature_name\n",
    "    imp_df['importance'] = clf.feature_importances_\n",
    "    \n",
    "    return imp_df"
   ]
  },
  {
   "cell_type": "code",
   "execution_count": null,
   "id": "51041647",
   "metadata": {},
   "outputs": [],
   "source": [
    "def null_importance(data, label, feature_name):\n",
    "    #原特征重要性\n",
    "    true_imp_df = get_feature_importances(data, label, feature_name, shuffle = False)\n",
    "\n",
    "    #null Importance\n",
    "    null_imp_df = pd.DataFrame()\n",
    "    for i in range(20):\n",
    "        imp_df = get_feature_importances(data, label, feature_name, shuffle=True)\n",
    "        null_imp_df = pd.concat([null_imp_df, imp_df], axis= 0)\n",
    "    \n",
    "    #对比\n",
    "    for feature in feature_name:\n",
    "        true_imp = true_imp_df.loc[true_imp_df['feature'] == feature, 'importance'].values[0]\n",
    "        null_imp = null_imp_df.loc[null_imp_df['feature'] == feature, 'importance'].mean()\n",
    "        print(f'feature {feature}: importance {true_imp}     null_importance {null_imp}')"
   ]
  },
  {
   "cell_type": "code",
   "execution_count": null,
   "id": "07010464",
   "metadata": {},
   "outputs": [],
   "source": [
    "data = df_questionnaire.drop('target',axis=1)\n",
    "label = df_questionnaire['target']\n",
    "feature_name = data.columns\n",
    "null_importance(data,label, feature_name)"
   ]
  },
  {
   "cell_type": "code",
   "execution_count": null,
   "id": "902b85b4",
   "metadata": {},
   "outputs": [],
   "source": [
    "data = df_text_cor.drop('target',axis=1)\n",
    "label = df_text_cor['target']\n",
    "feature_name = data.columns\n",
    "null_importance(data,label, feature_name)"
   ]
  },
  {
   "cell_type": "code",
   "execution_count": null,
   "id": "9ad127f5",
   "metadata": {},
   "outputs": [],
   "source": [
    "#后面的树模型不适合用one hot。文本标签部分让树模型自己编码\n",
    "df_all = df[['车架号','大区','车型','sales','service']]\n",
    "df_all = pd.concat([df_all, df_questionnaire], axis = 1)"
   ]
  },
  {
   "cell_type": "code",
   "execution_count": null,
   "id": "6521d464",
   "metadata": {},
   "outputs": [],
   "source": [
    "#处理好的数据先保存下来\n",
    "df_all.to_excel('df_revisit.xlsx')"
   ]
  },
  {
   "cell_type": "code",
   "execution_count": null,
   "id": "e724473f",
   "metadata": {},
   "outputs": [],
   "source": [
    "x = df_all.drop(['车架号','label'], axis = 1)\n",
    "y = df_all['label']"
   ]
  },
  {
   "cell_type": "code",
   "execution_count": null,
   "id": "158b9818",
   "metadata": {},
   "outputs": [],
   "source": [
    "#lighgbm\n",
    "\n",
    "prediction_test = np.zeros(df_all.shape[0])\n",
    "folds = StratifiedKFold(n_splits = 5, shuffle = True, random_state = 0)\n",
    "\n",
    "for n_fold, (train_idx, test_idx) in enumerate(folds.split(x, y)):\n",
    "    x_train, y_train = x.iloc[train_idx], y.iloc[train_idx]\n",
    "    x_test, y_test = x.iloc[test_idx], y.iloc[test_idx]\n",
    "    \n",
    "    clf = LGBMClassifier(n_estimators = 1000,\n",
    "         num_leaves = 50,\n",
    "         min_data_in_leaf = 10,\n",
    "         max_depth = 8,\n",
    "         learning_rate = 0.01)\n",
    "    \n",
    "    clf.fit(x_train, y_train, eval_set = [(x_train, y_train),(x_test, y_test)],\n",
    "           eval_metric = 'auc', verbose = 1000, early_stopping_rounds = 100)\n",
    "    \n",
    "    prediction_test[test_idx] = clf.predict_proba(x_test, num_iteration = clf.best_iteration_)[:,1]\n",
    "\n",
    "auc_score = roc_auc_score(y, prediction_test)\n",
    "accuracy = (y == prediction_test).mean()\n",
    "print(f'AUC score: {score}. Accuracy: {accuracy}')\n"
   ]
  },
  {
   "cell_type": "code",
   "execution_count": null,
   "id": "6d40c234",
   "metadata": {},
   "outputs": [],
   "source": [
    "df_all['prediction'] = prediction_test"
   ]
  }
 ],
 "metadata": {
  "kernelspec": {
   "display_name": "Python 3 (ipykernel)",
   "language": "python",
   "name": "python3"
  },
  "language_info": {
   "codemirror_mode": {
    "name": "ipython",
    "version": 3
   },
   "file_extension": ".py",
   "mimetype": "text/x-python",
   "name": "python",
   "nbconvert_exporter": "python",
   "pygments_lexer": "ipython3",
   "version": "3.8.10"
  }
 },
 "nbformat": 4,
 "nbformat_minor": 5
}
